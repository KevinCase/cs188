{
 "cells": [
  {
   "cell_type": "code",
   "execution_count": 12,
   "metadata": {},
   "outputs": [
    {
     "name": "stdout",
     "output_type": "stream",
     "text": [
      "R^2 = 0.8954\n",
      "0.8953995157384989\n",
      "0.38571428571428545\n",
      "0.38571428571428545\n",
      "Coefficients: \n",
      " 1.2285714285714282 -0.6285714285714277\n"
     ]
    }
   ],
   "source": [
    "#create linear model\n",
    "import numpy as np\n",
    "import scipy as sp\n",
    "import matplotlib as mpl\n",
    "import matplotlib.cm as cm\n",
    "import matplotlib.pyplot as plt\n",
    "import pandas as pd\n",
    "import time\n",
    "from sklearn.linear_model import LinearRegression\n",
    "from sklearn.model_selection import train_test_split\n",
    "from sklearn.metrics import mean_squared_error\n",
    "\n",
    "x_train = np.array([1,2,3,5])\n",
    "y_train = np.array([0,2,4,5])\n",
    "\n",
    "x_train = x_train.reshape(-1,1)\n",
    "#y_train = y_train.reshape(-1,1)\n",
    "\n",
    "regression = LinearRegression()\n",
    "\n",
    "#fit linear model\n",
    "regression.fit(x_train, y_train)\n",
    "\n",
    "predicted_y = regression.predict(x_train)\n",
    "\n",
    "r2 = regression.score(x_train, y_train)\n",
    "\n",
    "print(f'R^2 = {r2:.5}')\n",
    "print(regression.score(x_train, y_train))\n",
    "\n",
    "print(mean_squared_error(predicted_y, y_train))\n",
    "print(mean_squared_error(y_train, regression.predict(x_train)))\n",
    "\n",
    "print('Coefficients: \\n', regression.coef_[0], regression.intercept_)"
   ]
  },
  {
   "cell_type": "code",
   "execution_count": null,
   "metadata": {},
   "outputs": [],
   "source": []
  },
  {
   "cell_type": "code",
   "execution_count": null,
   "metadata": {},
   "outputs": [],
   "source": []
  },
  {
   "cell_type": "code",
   "execution_count": null,
   "metadata": {},
   "outputs": [],
   "source": []
  }
 ],
 "metadata": {
  "kernelspec": {
   "display_name": "Python 3",
   "language": "python",
   "name": "python3"
  },
  "language_info": {
   "codemirror_mode": {
    "name": "ipython",
    "version": 3
   },
   "file_extension": ".py",
   "mimetype": "text/x-python",
   "name": "python",
   "nbconvert_exporter": "python",
   "pygments_lexer": "ipython3",
   "version": "3.8.5"
  }
 },
 "nbformat": 4,
 "nbformat_minor": 4
}
